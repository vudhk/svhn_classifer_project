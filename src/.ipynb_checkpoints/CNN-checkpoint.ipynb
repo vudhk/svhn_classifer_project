{
 "cells": [
  {
   "cell_type": "code",
   "execution_count": 1,
   "metadata": {},
   "outputs": [],
   "source": [
    "import scipy.io as io\n",
    "import pylab as plt\n",
    "import tensorflow as tf\n",
    "import tensorflow.contrib.slim as slim\n",
    "import numpy as np"
   ]
  },
  {
   "cell_type": "code",
   "execution_count": 2,
   "metadata": {},
   "outputs": [],
   "source": [
    "# dinh nghia cac tham so mac dinh\n",
    "VALIDATION_SIZE = 14652\n",
    "BATCH_SIZE = 10\n",
    "TRAINING_INTERS = 20\n",
    "BATCH_SIZE = 100\n",
    "N_INPUT = 32\n",
    "N_CLASSES = 10"
   ]
  },
  {
   "cell_type": "code",
   "execution_count": 3,
   "metadata": {},
   "outputs": [],
   "source": [
    "def prepare_data():\n",
    "    train_data = io.loadmat('../data/svhn_train_32x32.mat', variable_names='X').get('X')\n",
    "    train_label = io.loadmat('../data/svhn_train_32x32.mat', variable_names='y').get('y')\n",
    "    test_data = io.loadmat('../data/svhn_test_32x32.mat', variable_names='X').get('X')\n",
    "    test_label = io.loadmat('../data/svhn_test_32x32.mat', variable_names='y').get('y')\n",
    "    validation_data = train_data[:,:,:,:VALIDATION_SIZE]\n",
    "    validation_label = train_label[:VALIDATION_SIZE]\n",
    "    train_data = train_data[:,:,:,VALIDATION_SIZE:]\n",
    "    train_label = train_label[VALIDATION_SIZE:] \n",
    "    return {'data': train_data, 'label': train_label},{'data': validation_data, 'label': validation_label},{'data': test_data, 'label': test_label}"
   ]
  },
  {
   "cell_type": "code",
   "execution_count": 4,
   "metadata": {},
   "outputs": [],
   "source": [
    "# Lay va phan chia data tu file\n",
    "train_set, validation_set, test_set = prepare_data()"
   ]
  },
  {
   "cell_type": "code",
   "execution_count": 5,
   "metadata": {},
   "outputs": [],
   "source": [
    "def show_image(value):\n",
    "    plt.figure(1)\n",
    "    im = plt.imshow(value)\n",
    "    plt.show()"
   ]
  },
  {
   "cell_type": "code",
   "execution_count": 6,
   "metadata": {},
   "outputs": [
    {
     "data": {
      "image/png": "[encoded data removed]",
      "text/plain": [
       "<matplotlib.figure.Figure at 0x7f128002d4a8>"
      ]
     },
     "metadata": {},
     "output_type": "display_data"
    },
    {
     "name": "stdout",
     "output_type": "stream",
     "text": [
      "[7]\n"
     ]
    }
   ],
   "source": [
    "# hien thi hinh anh\n",
    "img_num = 1\n",
    "show_image(train_set['data'][:,:,:,img_num])\n",
    "print(train_set['label'][img_num])"
   ]
  },
  {
   "cell_type": "code",
   "execution_count": 7,
   "metadata": {},
   "outputs": [],
   "source": [
    "# Xay dung mo hinh cnn su dung slim\n",
    "def cnn(input, is_training=True):\n",
    "    # su dung arg_scope de chac chan rang moi layer chi su dung cung mot gia tri cua cac parameter\n",
    "    with slim.arg_scope([slim.conv2d, slim.fully_connected], \n",
    "                            normalizer_fn=slim.batch_norm,\n",
    "                            weights_initializer=tf.truncated_normal_initializer(stddev=0.01),\n",
    "                            weights_regularizer=slim.l2_regularizer(0.0005)):\n",
    "    \n",
    "        with slim.arg_scope([slim.conv2d], padding='SAME'):\n",
    "            net = slim.conv2d(input, 32, [5, 5], scope='conv1')\n",
    "            net = slim.max_pool2d(net, [2, 2], scope='pool1')\n",
    "            net = slim.conv2d(net, 64, [5, 5], scope='conv2')\n",
    "            net = slim.max_pool2d(net, [2, 2], scope='pool2')\n",
    "            net = slim.flatten(net, scope='flatten3')\n",
    "            \n",
    "        net = slim.fully_connected(net, 1024, scope='fc3')\n",
    "        net = slim.dropout(net, is_training=is_training, scope='dropout3')  # 0.5 by default\n",
    "        outputs = slim.fully_connected(net, 10, activation_fn=None, normalizer_fn=None, scope='fco')\n",
    "        \n",
    "    return outputs"
   ]
  },
  {
   "cell_type": "code",
   "execution_count": 8,
   "metadata": {},
   "outputs": [],
   "source": [
    "# graph input\n",
    "input = tf.placeholder(tf.float32, [None, N_INPUT, N_INPUT, 3])\n",
    "# graph label\n",
    "label = tf.placeholder(tf.float32, [None, N_CLASSES])\n",
    "\n",
    "# predict\n",
    "pred = cnn(input)"
   ]
  },
  {
   "cell_type": "code",
   "execution_count": 9,
   "metadata": {},
   "outputs": [],
   "source": [
    "# tu dong tim kiem learning_rate phu hop\n",
    "global_step = tf.Variable(0, trainable=False)\n",
    "learning_rate = tf.train.exponential_decay(\n",
    "            1e-4,  # Base learning rate.\n",
    "            global_step * BATCH_SIZE,  # Current index into the dataset.\n",
    "            train_set['data'].shape[3],  # Decay step.\n",
    "            0.95,  # Decay rate.\n",
    "            staircase=True)\n",
    "\n",
    "# dinh nghia cac ham mat mat\n",
    "loss_op = tf.reduce_mean(tf.nn.softmax_cross_entropy_with_logits(logits=pred, labels=label))\n",
    "optimal = tf.train.AdamOptimizer(learning_rate)\n",
    "train_op = optimal.minimize(loss_op, global_step=global_step)"
   ]
  },
  {
   "cell_type": "code",
   "execution_count": 12,
   "metadata": {},
   "outputs": [],
   "source": [
    "# danh gia model\n",
    "correct_prediction = tf.equal(tf.argmax(pred, 1), tf.argmax(label, 1))\n",
    "accuracy = tf.reduce_mean(tf.cast(correct_prediction, tf.float32))"
   ]
  },
  {
   "cell_type": "code",
   "execution_count": 16,
   "metadata": {},
   "outputs": [],
   "source": [
    "# tao summary cua cac monitor de quan sat cac bien\n",
    "tf.summary.scalar('loss_op', loss_op)\n",
    "tf.summary.scalar('learning_rate', learning_rate)\n",
    "tf.summary.scalar('accuracy', accuracy)\n",
    "\n",
    "# gop cac summaries vao mot operation\n",
    "merged_summary_op = tf.summary.merge_all()\n",
    "\n",
    "# tao doi tuong log writer va ghi vao Tensorboard\n",
    "writer = tf.summary.FileWriter('./checkpoint', graph=tf.get_default_graph())"
   ]
  },
  {
   "cell_type": "code",
   "execution_count": 17,
   "metadata": {},
   "outputs": [],
   "source": [
    "# khoi tao cac variables\n",
    "init = tf.global_variables_initializer()\n",
    "# Add ops to save and restore all the variables.\n",
    "saver = tf.train.Saver()"
   ]
  },
  {
   "cell_type": "code",
   "execution_count": 18,
   "metadata": {},
   "outputs": [],
   "source": [
    "with tf.Session() as sess:\n",
    "    sess.run(init)\n",
    "    \n",
    "    # Training cycle\n",
    "    for epoch in range(TRAINING_INTERS):\n",
    "        total_batch = int(train_set['data'].shape[3]/BATCH_SIZE)\n",
    "        for batch in range(total_batch):\n",
    "            # lay batch tiep theo\n",
    "            batch_input = \n",
    "            batch_label = \n",
    "            # chay train_op, loss_op, accuracy\n",
    "            _, cost, acc = sess.run([train_op, loss_op, accuracy], feed_dict={input:batch_input, label:batch_label})\n",
    "        \n",
    "        # hien thi ket qua sau moi epoch\n",
    "        print(\"Epoch:\", '%04d,' % (epoch + 1), \"cost={:.9f}, training accuracy %.5f\" % (cost, acc))\n",
    "    \n",
    "    print('Optimization completed!!!')\n",
    "    # Luu tru variables vao disk.\n",
    "    save_path = saver.save(sess, \"/cnn_model.ckpt\")\n",
    "    print(\"Model saved in path: %s\" % save_path)"
   ]
  },
  {
   "cell_type": "code",
   "execution_count": null,
   "metadata": {},
   "outputs": [],
   "source": [
    "# Su dung model da duoc luu de tien doan\n",
    "with tf.Session() as sess:\n",
    "    saver.restore(sess, save_path)\n",
    "    "
   ]
  }
 ],
 "metadata": {
  "kernelspec": {
   "display_name": "Python 3",
   "language": "python",
   "name": "python3"
  },
  "language_info": {
   "codemirror_mode": {
    "name": "ipython",
    "version": 3
   },
   "file_extension": ".py",
   "mimetype": "text/x-python",
   "name": "python",
   "nbconvert_exporter": "python",
   "pygments_lexer": "ipython3",
   "version": "3.5.2"
  }
 },
 "nbformat": 4,
 "nbformat_minor": 2
}
